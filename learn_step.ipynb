{
 "cells": [
  {
   "cell_type": "markdown",
   "metadata": {
    "collapsed": true,
    "pycharm": {
     "name": "#%% md\n"
    }
   },
   "source": [
    "# In this part we will learn our convlution network using the data set we created"
   ]
  },
  {
   "cell_type": "markdown",
   "source": [
    "Some imports:"
   ],
   "metadata": {
    "collapsed": false
   }
  },
  {
   "cell_type": "code",
   "execution_count": 1,
   "outputs": [],
   "source": [
    "import numpy\n",
    "import torch\n",
    "import torch.nn as nn\n",
    "import torchvision.transforms as transforms\n",
    "import matplotlib.pyplot as plt\n",
    "from MyDataSet import NumbersDataSet\n",
    "import cv2\n",
    "import numpy as np\n",
    "from network import ConvNet"
   ],
   "metadata": {
    "collapsed": false,
    "pycharm": {
     "name": "#%%\n",
     "is_executing": false
    }
   }
  },
  {
   "cell_type": "markdown",
   "source": [
    "\n",
    "Some configurations:"
   ],
   "metadata": {
    "collapsed": false
   }
  },
  {
   "cell_type": "code",
   "execution_count": 2,
   "outputs": [],
   "source": [
    "# Device configuration\n",
    "device = torch.device('cuda:0' if torch.cuda.is_available() else 'cpu')\n",
    "\n",
    "# Hyper parameters\n",
    "num_epochs = 5\n",
    "num_classes = 10\n",
    "batch_size = 100\n",
    "learning_rate = 0.001"
   ],
   "metadata": {
    "collapsed": false,
    "pycharm": {
     "name": "#%%\n",
     "is_executing": false
    }
   }
  },
  {
   "cell_type": "markdown",
   "source": [
    "\n",
    "Transformations, and some more configurations:"
   ],
   "metadata": {
    "collapsed": false,
    "pycharm": {
     "name": "#%% md\n"
    }
   }
  },
  {
   "cell_type": "code",
   "execution_count": 3,
   "outputs": [],
   "source": [
    "# Define the bernoulli distirubtion\n",
    "bernoulli = torch.distributions.bernoulli.Bernoulli(torch.tensor([0.2]))\n",
    "\n",
    "# Some transforms: Rotation and Adding noise\n",
    "transformOpt = transforms.Compose([\n",
    "    transforms.RandomRotation(degrees=(25, -25), fill=(255,)),\n",
    "    transforms.ToTensor(),\n",
    "    transforms.Lambda(lambda x: x + bernoulli.sample(x[0].shape).reshape(x.shape[1], x.shape[2]).unsqueeze(0) * -torch.rand(x.shape))    \n",
    "])\n",
    "\n",
    "# The dataset\n",
    "train_dataset = NumbersDataSet('./new_data/', transform=transformOpt)\n",
    "\n",
    "\n",
    "# Data loader\n",
    "train_loader = torch.utils.data.DataLoader(dataset=train_dataset,\n",
    "                                           batch_size=batch_size,\n",
    "                                           shuffle=True)\n",
    "\n",
    "\n",
    "# Initialize our network\n",
    "model = ConvNet(num_classes).to(device)\n",
    "\n",
    "# Loss and optimizer\n",
    "criterion = nn.CrossEntropyLoss()\n",
    "optimizer = torch.optim.Adam(model.parameters(), lr=learning_rate)\n",
    "\n",
    "# Train the model\n",
    "total_step = len(train_loader)"
   ],
   "metadata": {
    "collapsed": false,
    "pycharm": {
     "name": "#%%\n",
     "is_executing": false
    }
   }
  },
  {
   "cell_type": "markdown",
   "source": [
    "The learning part:"
   ],
   "metadata": {
    "collapsed": false,
    "pycharm": {
     "name": "#%% md\n"
    }
   }
  },
  {
   "cell_type": "code",
   "execution_count": 4,
   "outputs": [
    {
     "name": "stdout",
     "text": [
      "Epoch [1/5], Step [100/400], Loss: 0.4595\n",
      "Epoch [1/5], Step [200/400], Loss: 0.0328\n",
      "Epoch [1/5], Step [300/400], Loss: 0.0140\n",
      "Epoch [1/5], Step [400/400], Loss: 0.0078\n",
      "Epoch [2/5], Step [100/400], Loss: 0.0048\n",
      "Epoch [2/5], Step [200/400], Loss: 0.0034\n",
      "Epoch [2/5], Step [300/400], Loss: 0.0024\n",
      "Epoch [2/5], Step [400/400], Loss: 0.0020\n",
      "Epoch [3/5], Step [100/400], Loss: 0.0015\n",
      "Epoch [3/5], Step [200/400], Loss: 0.0013\n",
      "Epoch [3/5], Step [300/400], Loss: 0.0010\n",
      "Epoch [3/5], Step [400/400], Loss: 0.0008\n",
      "Epoch [4/5], Step [100/400], Loss: 0.0008\n",
      "Epoch [4/5], Step [200/400], Loss: 0.0007\n",
      "Epoch [4/5], Step [300/400], Loss: 0.0006\n",
      "Epoch [4/5], Step [400/400], Loss: 0.0005\n",
      "Epoch [5/5], Step [100/400], Loss: 0.0005\n",
      "Epoch [5/5], Step [200/400], Loss: 0.0005\n",
      "Epoch [5/5], Step [300/400], Loss: 0.0004\n",
      "Epoch [5/5], Step [400/400], Loss: 0.0006\nDone!\n"
     ],
     "output_type": "stream"
    }
   ],
   "source": [
    "plot_training = []\n",
    "\n",
    "for epoch in range(num_epochs):\n",
    "    loss_training = 0.0\n",
    "    epoch_loss = 0.0\n",
    "    for i, (images, labels) in enumerate(train_loader):\n",
    "        images = images.to(device)\n",
    "        labels = labels.to(device)\n",
    "\n",
    "        # Forward pass\n",
    "        outputs = model(images)\n",
    "        loss = criterion(outputs, labels)\n",
    "\n",
    "        # Backward and optimize\n",
    "        optimizer.zero_grad()\n",
    "        loss.backward()\n",
    "        optimizer.step()\n",
    "\n",
    "        loss_item = loss.item()\n",
    "        loss_training += loss_item\n",
    "        epoch_loss += loss_item\n",
    "\n",
    "        if (i + 1) % 100 == 0:\n",
    "            print('Epoch [{}/{}], Step [{}/{}], Loss: {:.4f}'\n",
    "                  .format(epoch + 1, num_epochs, i + 1, total_step, loss_training / 100))\n",
    "            loss_training = 0.0\n",
    "\n",
    "    plot_training.append(epoch_loss / i)\n",
    "    \n",
    "# Save the model checkpoint\n",
    "torch.save(model.state_dict(), 'model_final.ckpt')\n",
    "\n",
    "print(\"Done!\")"
   ],
   "metadata": {
    "collapsed": false,
    "pycharm": {
     "name": "#%%\n",
     "is_executing": false
    }
   }
  },
  {
   "cell_type": "markdown",
   "source": [
    "\n",
    "Plotting the loss training curve:"
   ],
   "metadata": {
    "collapsed": false
   }
  },
  {
   "cell_type": "code",
   "execution_count": 13,
   "outputs": [
    {
     "data": {
      "text/plain": "<Figure size 576x360 with 1 Axes>",
      "image/png": "[encoded data removed]"
     },
     "metadata": {
      "needs_background": "light"
     },
     "output_type": "display_data"
    }
   ],
   "source": [
    "plt.figure(figsize = (8, 5))\n",
    "plt.plot(plot_training)\n",
    "plt.legend(['Train Set'], loc='upper right')\n",
    "plt.xlabel('Epochs')\n",
    "plt.ylabel('Loss')\n",
    "plt.show()"
   ],
   "metadata": {
    "collapsed": false,
    "pycharm": {
     "name": "#%%\n",
     "is_executing": false
    }
   }
  },
  {
   "cell_type": "code",
   "execution_count": null,
   "outputs": [],
   "source": [
    "\n"
   ],
   "metadata": {
    "collapsed": false,
    "pycharm": {
     "name": "#%%\n"
    }
   }
  }
 ],
 "metadata": {
  "kernelspec": {
   "display_name": "Python 3",
   "language": "python",
   "name": "python3"
  },
  "language_info": {
   "codemirror_mode": {
    "name": "ipython",
    "version": 2
   },
   "file_extension": ".py",
   "mimetype": "text/x-python",
   "name": "python",
   "nbconvert_exporter": "python",
   "pygments_lexer": "ipython2",
   "version": "2.7.6"
  },
  "pycharm": {
   "stem_cell": {
    "cell_type": "raw",
    "source": [],
    "metadata": {
     "collapsed": false
    }
   }
  }
 },
 "nbformat": 4,
 "nbformat_minor": 0
}