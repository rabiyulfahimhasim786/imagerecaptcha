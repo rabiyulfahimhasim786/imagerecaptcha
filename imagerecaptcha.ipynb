{
  "nbformat": 4,
  "nbformat_minor": 0,
  "metadata": {
    "colab": {
      "provenance": [],
      "include_colab_link": true
    },
    "kernelspec": {
      "name": "python3",
      "display_name": "Python 3"
    },
    "language_info": {
      "name": "python"
    }
  },
  "cells": [
    {
      "cell_type": "markdown",
      "metadata": {
        "id": "view-in-github",
        "colab_type": "text"
      },
      "source": [
        "<a href=\"https://colab.research.google.com/github/rabiyulfahimhasim786/imagerecaptcha/blob/main/imagerecaptcha.ipynb\" target=\"_parent\"><img src=\"https://colab.research.google.com/assets/colab-badge.svg\" alt=\"Open In Colab\"/></a>"
      ]
    },
    {
      "cell_type": "code",
      "execution_count": 1,
      "metadata": {
        "colab": {
          "base_uri": "https://localhost:8080/"
        },
        "id": "Hs2cCum-6Ypr",
        "outputId": "2faf9d9c-529a-428c-def3-b3f814d49472"
      },
      "outputs": [
        {
          "output_type": "stream",
          "name": "stdout",
          "text": [
            "Looking in indexes: https://pypi.org/simple, https://us-python.pkg.dev/colab-wheels/public/simple/\n",
            "Collecting network\n",
            "  Downloading network-0.1.tar.gz (2.8 kB)\n",
            "  Preparing metadata (setup.py) ... \u001b[?25l\u001b[?25hdone\n",
            "Building wheels for collected packages: network\n",
            "  Building wheel for network (setup.py) ... \u001b[?25l\u001b[?25hdone\n",
            "  Created wheel for network: filename=network-0.1-py3-none-any.whl size=3138 sha256=59c25cb60519554ed288ba9130bb94ffb45d45ecd3bda1ff4fec0533f09ff909\n",
            "  Stored in directory: /root/.cache/pip/wheels/25/97/b1/563d3a70ed8f588bf9cf448f079024a9751b54d15a0ce3d46b\n",
            "Successfully built network\n",
            "Installing collected packages: network\n",
            "Successfully installed network-0.1\n"
          ]
        }
      ],
      "source": [
        "!pip install network"
      ]
    },
    {
      "cell_type": "code",
      "source": [
        "import torch.nn as nn\n",
        "\n",
        "# Convolutional neural network (two convolutional layers)\n",
        "\n",
        "class ConvNet(nn.Module):\n",
        "    def __init__(self, num_classes=10):\n",
        "        super(ConvNet, self).__init__()\n",
        "        self.layer1 = nn.Sequential(\n",
        "            nn.Conv2d(1, 16, kernel_size=5, stride=1, padding=2),\n",
        "            nn.BatchNorm2d(16),\n",
        "            nn.ReLU(),\n",
        "            nn.MaxPool2d(kernel_size=2, stride=2))\n",
        "        self.layer2 = nn.Sequential(\n",
        "            nn.Conv2d(16, 32, kernel_size=5, stride=1, padding=2),\n",
        "            nn.BatchNorm2d(32),\n",
        "            nn.ReLU(),\n",
        "            nn.MaxPool2d(kernel_size=2, stride=2))\n",
        "        self.fc = nn.Linear(896, num_classes)\n",
        "\n",
        "    def forward(self, x):\n",
        "        out = self.layer1(x)\n",
        "        out = self.layer2(out)\n",
        "        out = out.reshape(out.size(0), -1)\n",
        "        out = self.fc(out)\n",
        "        return out"
      ],
      "metadata": {
        "id": "_ExVMl2k7sN1"
      },
      "execution_count": 2,
      "outputs": []
    },
    {
      "cell_type": "code",
      "source": [
        "import numpy as np\n",
        "import torch\n",
        "import cv2\n",
        "import imutils\n",
        "# from network import ConvNet\n",
        "from google.colab.patches import cv2_imshow\n",
        "# Device configuration\n",
        "device = torch.device('cuda:0' if torch.cuda.is_available() else 'cpu')\n",
        "\n",
        "# Initialize the network\n",
        "model = ConvNet().to(device)\n",
        "\n",
        "# Loading the weights\n",
        "model.load_state_dict(torch.load('model_final.ckpt'))\n",
        "\n",
        "# Eval mode (batchnorm uses moving mean/variance instead of mini-batch mean/variance)\n",
        "model.eval()\n",
        "\n",
        "image = cv2.imread(\"test.png\")\n",
        "\n",
        "gray = cv2.cvtColor(image, cv2.COLOR_BGR2GRAY)\n",
        "# gray = cv2.copyMakeBorder(gray, 8, 8, 8, 8, cv2.BORDER_REPLICATE)\n",
        "\n",
        "thresh = cv2.threshold(gray, 0, 255, cv2.THRESH_BINARY_INV | cv2.THRESH_OTSU)[1]\n",
        "\n",
        "# find the contours (continuous blobs of pixels) the image\n",
        "contours = cv2.findContours(thresh.copy(), cv2.RETR_EXTERNAL, cv2.CHAIN_APPROX_SIMPLE)\n",
        "\n",
        "# Hack for compatibility with different OpenCV versions\n",
        "contours = contours[1] if imutils.is_cv3() else contours[0]\n",
        "\n",
        "letter_image_regions = []\n",
        "for contour in contours:\n",
        "    # Get the rectangle that contains the contour\n",
        "    (x, y, w, h) = cv2.boundingRect(contour)\n",
        "\n",
        "    if w <= 9 or h <= 9:\n",
        "        continue\n",
        "\n",
        "    # print(x, y, w, h)\n",
        "    letter_image_regions.append((x, y, w, h))\n",
        "\n",
        "# Sort the detected letter images based on the x coordinate to make sure\n",
        "# we are processing them from left-to-right so we match the right image\n",
        "# with the right letter\n",
        "letter_image_regions = sorted(letter_image_regions, key=lambda x: x[0])\n",
        "\n",
        "predicted_number = \"\"\n",
        "output_img = cv2.merge([image])\n",
        "for letter_bounding_box in letter_image_regions:\n",
        "    x, y, w, h = letter_bounding_box\n",
        "    letter_image = gray[y:y + h, x:x + w]\n",
        "\n",
        "    letter_image = letter_image[0:30, 0:18]\n",
        "\n",
        "    shape_x, shape_y = letter_image.shape\n",
        "\n",
        "    # new_img = np.resize(letter_image, (28, 28))\n",
        "    fill_width = np.ones([shape_x, 18 - shape_y]) * 255\n",
        "    fill_height = np.ones([30 - shape_x, 18]) * 255\n",
        "\n",
        "    new_img = np.concatenate((letter_image, fill_width), 1)\n",
        "    new_img = np.concatenate((new_img, fill_height), 0)\n",
        "\n",
        "    new_img /= 255  # normalize\n",
        "\n",
        "    with torch.no_grad():\n",
        "        arg = torch.from_numpy(np.array([[new_img]]))\n",
        "        output = model(arg.float())\n",
        "\n",
        "        _, predicted = torch.max(output.data, 1)\n",
        "\n",
        "        letter = str(int(predicted[0]))\n",
        "        predicted_number += letter\n",
        "\n",
        "        cv2.rectangle(output_img, (x - 4, y - 4), (x + w + 5, y + h + 5), (0, 0, 255), 1)\n",
        "        cv2.putText(output_img, letter, (x, y - 6), cv2.FONT_HERSHEY_SIMPLEX, 0.6, (0, 0, 255), 2)\n",
        "\n",
        "# cv2.imshow('image', output_img)\n",
        "# cv2.waitKey()\n",
        "cv2_imshow(output_img)\n",
        "cv2.waitKey()\n"
      ],
      "metadata": {
        "colab": {
          "base_uri": "https://localhost:8080/",
          "height": 153
        },
        "id": "QjS9N2_Q6ex1",
        "outputId": "e651f609-3d95-4170-a659-f79ebaa58c2e"
      },
      "execution_count": 3,
      "outputs": [
        {
          "output_type": "display_data",
          "data": {
            "text/plain": [
              "<PIL.Image.Image image mode=RGB size=299x119 at 0x7F6A8FDA6CE0>"
            ],
            "image/png": "[encoded data removed]"
          },
          "metadata": {}
        },
        {
          "output_type": "execute_result",
          "data": {
            "text/plain": [
              "-1"
            ]
          },
          "metadata": {},
          "execution_count": 3
        }
      ]
    },
    {
      "cell_type": "code",
      "source": [
        "print(predicted_number)"
      ],
      "metadata": {
        "colab": {
          "base_uri": "https://localhost:8080/"
        },
        "id": "_rIiTwTv8e8z",
        "outputId": "c241776b-4c75-442d-9ed5-77fdce33a1de"
      },
      "execution_count": 4,
      "outputs": [
        {
          "output_type": "stream",
          "name": "stdout",
          "text": [
            "0751\n"
          ]
        }
      ]
    }
  ]
}