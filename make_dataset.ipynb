{
 "cells": [
  {
   "cell_type": "markdown",
   "source": [
    "# Create a dataset of similar numbers to the Captcha\n",
    "\n",
    "The location of the fonts can be found here.<br />\n",
    "We will use Pillow library to create these files.\n"
   ],
   "metadata": {
    "collapsed": false,
    "pycharm": {
     "name": "#%% md\n"
    }
   }
  },
  {
   "cell_type": "code",
   "execution_count": 2,
   "outputs": [],
   "source": [
    "from PIL import Image, ImageDraw, ImageFont\n",
    "import PIL\n",
    "\n",
    "# A list of all fonts composed from:\n",
    "# 1. Font Name\n",
    "# 2. (x, y) locations\n",
    "# 3. Font Size\n",
    "\n",
    "text_font = [\n",
    "    ('CALIST.TTF', (-1, -8), 35),\n",
    "    ('CALIST.TTF', (0, -5), 30),\n",
    "    ('CALISTBI.TTF', (-1, -8), 35),\n",
    "    ('CALISTBI.TTF', (0, -5), 30),\n",
    "    ('CALISTI.TTF', (-1, -8), 35),\n",
    "    ('CALISTI.TTF', (0, -5), 30),\n",
    "    ('david.ttf', (-1, -5), 43),\n",
    "    ('david.ttf', (0, -4), 36)\n",
    "]"
   ],
   "metadata": {
    "collapsed": false,
    "pycharm": {
     "name": "#%%\n",
     "is_executing": false
    }
   }
  },
  {
   "cell_type": "markdown",
   "source": [
    "So the next step will be to iterate through each element in the `text_Font` list\n",
    "and for each element, to create file for each number from 0 to nine.\n",
    "\n",
    "We will save these files in the `new_data` directory.\n",
    "\n"
   ],
   "metadata": {
    "collapsed": false,
    "pycharm": {
     "name": "#%% md\n"
    }
   }
  },
  {
   "cell_type": "code",
   "execution_count": 3,
   "outputs": [
    {
     "name": "stdout",
     "text": [
      "Done\n"
     ],
     "output_type": "stream"
    }
   ],
   "source": [
    "for i, (font, pos, font_size) in enumerate(text_font):\n",
    "    for j in range(0, 10):\n",
    "        img = Image.new('L', (18, 30), color=255)\n",
    "\n",
    "        fnt = ImageFont.truetype('/assets/' + str(font), font_size)\n",
    "        d = ImageDraw.Draw(img)\n",
    "        d.text(pos, str(j), font=fnt, fill=100)\n",
    "\n",
    "        img.save('./new_data/' + str(i) + str(j) + '.png')\n",
    "\n",
    "print(\"Done\")"
   ],
   "metadata": {
    "collapsed": false,
    "pycharm": {
     "name": "#%%\n",
     "is_executing": false
    }
   }
  }
 ],
 "metadata": {
  "kernelspec": {
   "display_name": "Python 3",
   "language": "python",
   "name": "python3"
  },
  "language_info": {
   "codemirror_mode": {
    "name": "ipython",
    "version": 2
   },
   "file_extension": ".py",
   "mimetype": "text/x-python",
   "name": "python",
   "nbconvert_exporter": "python",
   "pygments_lexer": "ipython2",
   "version": "2.7.6"
  },
  "pycharm": {
   "stem_cell": {
    "cell_type": "raw",
    "source": [],
    "metadata": {
     "collapsed": false
    }
   }
  }
 },
 "nbformat": 4,
 "nbformat_minor": 0
}